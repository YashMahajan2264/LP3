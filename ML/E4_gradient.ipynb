{
 "cells": [
  {
   "cell_type": "code",
   "execution_count": 2,
   "id": "cdedeed0-b402-487b-849c-d707d281f585",
   "metadata": {},
   "outputs": [
    {
     "name": "stdout",
     "output_type": "stream",
     "text": [
      "Collecting sympy\n",
      "  Downloading sympy-1.13.3-py3-none-any.whl.metadata (12 kB)\n",
      "Collecting mpmath<1.4,>=1.1.0 (from sympy)\n",
      "  Downloading mpmath-1.3.0-py3-none-any.whl.metadata (8.6 kB)\n",
      "Downloading sympy-1.13.3-py3-none-any.whl (6.2 MB)\n",
      "   ---------------------------------------- 0.0/6.2 MB ? eta -:--:--\n",
      "   ---------------------------------------- 0.0/6.2 MB ? eta -:--:--\n",
      "   ---------------------------------------- 0.1/6.2 MB 1.1 MB/s eta 0:00:06\n",
      "    --------------------------------------- 0.1/6.2 MB 939.4 kB/s eta 0:00:07\n",
      "   - -------------------------------------- 0.2/6.2 MB 1.1 MB/s eta 0:00:06\n",
      "   -- ------------------------------------- 0.4/6.2 MB 1.5 MB/s eta 0:00:04\n",
      "   --- ------------------------------------ 0.5/6.2 MB 1.7 MB/s eta 0:00:04\n",
      "   --- ------------------------------------ 0.6/6.2 MB 1.9 MB/s eta 0:00:03\n",
      "   ---- ----------------------------------- 0.7/6.2 MB 1.9 MB/s eta 0:00:03\n",
      "   ----- ---------------------------------- 0.9/6.2 MB 2.1 MB/s eta 0:00:03\n",
      "   ------ --------------------------------- 1.0/6.2 MB 2.2 MB/s eta 0:00:03\n",
      "   ------- -------------------------------- 1.1/6.2 MB 2.2 MB/s eta 0:00:03\n",
      "   ------- -------------------------------- 1.2/6.2 MB 2.2 MB/s eta 0:00:03\n",
      "   ------- -------------------------------- 1.2/6.2 MB 2.0 MB/s eta 0:00:03\n",
      "   -------- ------------------------------- 1.3/6.2 MB 2.0 MB/s eta 0:00:03\n",
      "   -------- ------------------------------- 1.4/6.2 MB 2.0 MB/s eta 0:00:03\n",
      "   --------- ------------------------------ 1.5/6.2 MB 2.0 MB/s eta 0:00:03\n",
      "   --------- ------------------------------ 1.5/6.2 MB 2.0 MB/s eta 0:00:03\n",
      "   --------- ------------------------------ 1.5/6.2 MB 2.0 MB/s eta 0:00:03\n",
      "   ---------- ----------------------------- 1.6/6.2 MB 1.9 MB/s eta 0:00:03\n",
      "   ----------- ---------------------------- 1.8/6.2 MB 1.9 MB/s eta 0:00:03\n",
      "   ----------- ---------------------------- 1.8/6.2 MB 1.8 MB/s eta 0:00:03\n",
      "   ----------- ---------------------------- 1.8/6.2 MB 1.8 MB/s eta 0:00:03\n",
      "   ------------ --------------------------- 1.9/6.2 MB 1.8 MB/s eta 0:00:03\n",
      "   ------------- -------------------------- 2.1/6.2 MB 1.9 MB/s eta 0:00:03\n",
      "   ------------- -------------------------- 2.2/6.2 MB 1.9 MB/s eta 0:00:03\n",
      "   -------------- ------------------------- 2.2/6.2 MB 1.8 MB/s eta 0:00:03\n",
      "   -------------- ------------------------- 2.3/6.2 MB 1.8 MB/s eta 0:00:03\n",
      "   --------------- ------------------------ 2.4/6.2 MB 1.8 MB/s eta 0:00:03\n",
      "   --------------- ------------------------ 2.5/6.2 MB 1.9 MB/s eta 0:00:03\n",
      "   ---------------- ----------------------- 2.5/6.2 MB 1.8 MB/s eta 0:00:03\n",
      "   ----------------- ---------------------- 2.6/6.2 MB 1.8 MB/s eta 0:00:02\n",
      "   ----------------- ---------------------- 2.7/6.2 MB 1.8 MB/s eta 0:00:02\n",
      "   ------------------ --------------------- 2.9/6.2 MB 1.9 MB/s eta 0:00:02\n",
      "   ------------------ --------------------- 2.9/6.2 MB 1.9 MB/s eta 0:00:02\n",
      "   ------------------ --------------------- 2.9/6.2 MB 1.9 MB/s eta 0:00:02\n",
      "   ------------------- -------------------- 2.9/6.2 MB 1.8 MB/s eta 0:00:02\n",
      "   ------------------- -------------------- 3.0/6.2 MB 1.8 MB/s eta 0:00:02\n",
      "   -------------------- ------------------- 3.1/6.2 MB 1.8 MB/s eta 0:00:02\n",
      "   -------------------- ------------------- 3.2/6.2 MB 1.7 MB/s eta 0:00:02\n",
      "   --------------------- ------------------ 3.3/6.2 MB 1.8 MB/s eta 0:00:02\n",
      "   ---------------------- ----------------- 3.4/6.2 MB 1.8 MB/s eta 0:00:02\n",
      "   ---------------------- ----------------- 3.5/6.2 MB 1.8 MB/s eta 0:00:02\n",
      "   ---------------------- ----------------- 3.5/6.2 MB 1.8 MB/s eta 0:00:02\n",
      "   ---------------------- ----------------- 3.5/6.2 MB 1.7 MB/s eta 0:00:02\n",
      "   ----------------------- ---------------- 3.7/6.2 MB 1.7 MB/s eta 0:00:02\n",
      "   ------------------------ --------------- 3.8/6.2 MB 1.8 MB/s eta 0:00:02\n",
      "   ------------------------ --------------- 3.8/6.2 MB 1.7 MB/s eta 0:00:02\n",
      "   ------------------------ --------------- 3.9/6.2 MB 1.7 MB/s eta 0:00:02\n",
      "   ------------------------- -------------- 3.9/6.2 MB 1.7 MB/s eta 0:00:02\n",
      "   ------------------------- -------------- 3.9/6.2 MB 1.7 MB/s eta 0:00:02\n",
      "   ------------------------- -------------- 3.9/6.2 MB 1.7 MB/s eta 0:00:02\n",
      "   ------------------------- -------------- 3.9/6.2 MB 1.6 MB/s eta 0:00:02\n",
      "   -------------------------- ------------- 4.0/6.2 MB 1.6 MB/s eta 0:00:02\n",
      "   -------------------------- ------------- 4.1/6.2 MB 1.6 MB/s eta 0:00:02\n",
      "   -------------------------- ------------- 4.1/6.2 MB 1.6 MB/s eta 0:00:02\n",
      "   --------------------------- ------------ 4.2/6.2 MB 1.6 MB/s eta 0:00:02\n",
      "   --------------------------- ------------ 4.3/6.2 MB 1.6 MB/s eta 0:00:02\n",
      "   ---------------------------- ----------- 4.5/6.2 MB 1.7 MB/s eta 0:00:02\n",
      "   ----------------------------- ---------- 4.5/6.2 MB 1.7 MB/s eta 0:00:01\n",
      "   ------------------------------ --------- 4.7/6.2 MB 1.7 MB/s eta 0:00:01\n",
      "   ------------------------------- -------- 4.8/6.2 MB 1.7 MB/s eta 0:00:01\n",
      "   ------------------------------- -------- 4.9/6.2 MB 1.7 MB/s eta 0:00:01\n",
      "   -------------------------------- ------- 5.0/6.2 MB 1.7 MB/s eta 0:00:01\n",
      "   --------------------------------- ------ 5.1/6.2 MB 1.7 MB/s eta 0:00:01\n",
      "   --------------------------------- ------ 5.2/6.2 MB 1.7 MB/s eta 0:00:01\n",
      "   ---------------------------------- ----- 5.4/6.2 MB 1.8 MB/s eta 0:00:01\n",
      "   ---------------------------------- ----- 5.4/6.2 MB 1.8 MB/s eta 0:00:01\n",
      "   ------------------------------------ --- 5.6/6.2 MB 1.8 MB/s eta 0:00:01\n",
      "   ------------------------------------ --- 5.7/6.2 MB 1.8 MB/s eta 0:00:01\n",
      "   ------------------------------------- -- 5.8/6.2 MB 1.8 MB/s eta 0:00:01\n",
      "   -------------------------------------- - 6.0/6.2 MB 1.8 MB/s eta 0:00:01\n",
      "   ---------------------------------------  6.1/6.2 MB 1.8 MB/s eta 0:00:01\n",
      "   ---------------------------------------  6.2/6.2 MB 1.8 MB/s eta 0:00:01\n",
      "   ---------------------------------------  6.2/6.2 MB 1.8 MB/s eta 0:00:01\n",
      "   ---------------------------------------  6.2/6.2 MB 1.8 MB/s eta 0:00:01\n",
      "   ---------------------------------------- 6.2/6.2 MB 1.7 MB/s eta 0:00:00\n",
      "Downloading mpmath-1.3.0-py3-none-any.whl (536 kB)\n",
      "   ---------------------------------------- 0.0/536.2 kB ? eta -:--:--\n",
      "   ------ --------------------------------- 81.9/536.2 kB 2.3 MB/s eta 0:00:01\n",
      "   ------------ --------------------------- 163.8/536.2 kB 2.5 MB/s eta 0:00:01\n",
      "   ------------------------- -------------- 348.2/536.2 kB 2.7 MB/s eta 0:00:01\n",
      "   ----------------------------------- ---- 481.3/536.2 kB 2.5 MB/s eta 0:00:01\n",
      "   ---------------------------------------- 536.2/536.2 kB 2.6 MB/s eta 0:00:00\n",
      "Installing collected packages: mpmath, sympy\n",
      "Successfully installed mpmath-1.3.0 sympy-1.13.3\n",
      "Note: you may need to restart the kernel to use updated packages.\n"
     ]
    },
    {
     "name": "stderr",
     "output_type": "stream",
     "text": [
      "\n",
      "[notice] A new release of pip is available: 24.0 -> 24.3.1\n",
      "[notice] To update, run: python.exe -m pip install --upgrade pip\n"
     ]
    }
   ],
   "source": [
    "pip install sympy"
   ]
  },
  {
   "cell_type": "code",
   "execution_count": 3,
   "id": "425689a1-ec75-4db5-b4ba-5a4d540801df",
   "metadata": {},
   "outputs": [],
   "source": [
    "import matplotlib.pyplot as plt\n",
    "import numpy as np\n",
    "import sympy as sym"
   ]
  },
  {
   "cell_type": "code",
   "execution_count": 4,
   "id": "c0355a21-78f0-48fa-bf28-6b98b2ce30a4",
   "metadata": {},
   "outputs": [],
   "source": [
    "def function_minimize(x):\n",
    "    return (x+3)**2"
   ]
  },
  {
   "cell_type": "code",
   "execution_count": 5,
   "id": "8bea6127-f225-40fd-a4ab-402b5b938d9d",
   "metadata": {},
   "outputs": [],
   "source": [
    "def derivative(x):\n",
    "    return 2*(x+3)"
   ]
  },
  {
   "cell_type": "code",
   "execution_count": 6,
   "id": "32749a72-da7d-41c2-8b68-699c512a4eae",
   "metadata": {},
   "outputs": [],
   "source": [
    "def gradientd(s,lr,iter):\n",
    "    x_list=list()\n",
    "    x=s\n",
    "    x_list.append(x)\n",
    "    for i in range(iter):\n",
    "        gradient=derivative(x)\n",
    "        x=x-gradient*lr\n",
    "        x_list.append(x)\n",
    "    return x_list\n",
    "        "
   ]
  },
  {
   "cell_type": "code",
   "execution_count": 7,
   "id": "42f879f9-8ad6-4db3-99c3-3ce7d599e957",
   "metadata": {},
   "outputs": [],
   "source": [
    "s=2\n",
    "lr=0.1\n",
    "itr=100\n",
    "X=gradientd(s,lr,itr)"
   ]
  },
  {
   "cell_type": "code",
   "execution_count": 8,
   "id": "ac6e96ad-1979-471b-b8fc-c05eb73206d7",
   "metadata": {},
   "outputs": [],
   "source": [
    "from matplotlib import pyplot"
   ]
  },
  {
   "cell_type": "code",
   "execution_count": 9,
   "id": "81da94d7-b876-4579-8fcb-f386abd6f1f0",
   "metadata": {},
   "outputs": [
    {
     "data": {
      "image/png": "[encoded data removed]",
      "text/plain": [
       "<Figure size 640x480 with 1 Axes>"
      ]
     },
     "metadata": {},
     "output_type": "display_data"
    }
   ],
   "source": [
    "x_coordinate=np.linspace(-5,5,100)\n",
    "pyplot.plot(x_coordinate,function_minimize(x_coordinate))\n",
    "X_arr=np.array(X)\n",
    "pyplot.plot(X_arr,function_minimize(X_arr),'.-',color='r')\n",
    "pyplot.axvline(-3,color='green',lw=1,ls='--',label=\"minimum at x equal to -3\")\n",
    "pyplot.show()"
   ]
  },
  {
   "cell_type": "code",
   "execution_count": 10,
   "id": "82621d36-63b2-4585-9ca3-f7603d8ba8a2",
   "metadata": {},
   "outputs": [],
   "source": [
    "def gradient_d(expr,s,lr,itr):\n",
    "    x_list=list()\n",
    "    x=sym.symbols('x')\n",
    "    gradient=sym.Derivative(expr,x).doit()\n",
    "    xval=s\n",
    "    x_list.append(xval)\n",
    "    for i in range(itr):\n",
    "        grad=gradient.subs(x,xval)\n",
    "        xval=xval-grad*lr\n",
    "        x_list.append(xval)\n",
    "    return x_list\n",
    "        "
   ]
  },
  {
   "cell_type": "code",
   "execution_count": 11,
   "id": "8cd83715-fb27-42e2-a682-a32b635a2550",
   "metadata": {},
   "outputs": [],
   "source": [
    "x=sym.symbols('x')\n",
    "expr=(x+3)**2;\n",
    "Y=gradient_d(expr,s,lr,itr)"
   ]
  },
  {
   "cell_type": "code",
   "execution_count": 12,
   "id": "a15e0f2f-f678-4c55-bdbe-d7549bd7115a",
   "metadata": {},
   "outputs": [
    {
     "data": {
      "image/png": "[encoded data removed]",
      "text/plain": [
       "<Figure size 640x480 with 1 Axes>"
      ]
     },
     "metadata": {},
     "output_type": "display_data"
    }
   ],
   "source": [
    "x_coordinate=np.linspace(-5,5,100)\n",
    "pyplot.plot(x_coordinate,function_minimize(x_coordinate))\n",
    "Y_arr=np.array(Y)\n",
    "pyplot.plot(Y_arr,function_minimize(Y_arr),'.-',color='r')\n",
    "pyplot.axvline(-3,color='green',lw=1,ls='--',label=\"minimum at x equal to -3\")\n",
    "pyplot.show()"
   ]
  },
  {
   "cell_type": "code",
   "execution_count": null,
   "id": "6cacdb89-0d4b-4873-a3e4-4bbf42985e03",
   "metadata": {},
   "outputs": [],
   "source": []
  },
  {
   "cell_type": "code",
   "execution_count": null,
   "id": "6e7466d9-bf1d-463d-adad-bc54cf1378fe",
   "metadata": {},
   "outputs": [],
   "source": []
  }
 ],
 "metadata": {
  "kernelspec": {
   "display_name": "Python 3 (ipykernel)",
   "language": "python",
   "name": "python3"
  },
  "language_info": {
   "codemirror_mode": {
    "name": "ipython",
    "version": 3
   },
   "file_extension": ".py",
   "mimetype": "text/x-python",
   "name": "python",
   "nbconvert_exporter": "python",
   "pygments_lexer": "ipython3",
   "version": "3.11.0"
  }
 },
 "nbformat": 4,
 "nbformat_minor": 5
}
